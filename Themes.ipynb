{
  "nbformat": 4,
  "nbformat_minor": 0,
  "metadata": {
    "colab": {
      "provenance": [],
      "include_colab_link": true
    },
    "kernelspec": {
      "name": "ir",
      "display_name": "R"
    },
    "language_info": {
      "name": "R"
    }
  },
  "cells": [
    {
      "cell_type": "markdown",
      "metadata": {
        "id": "view-in-github",
        "colab_type": "text"
      },
      "source": [
        "<a href=\"https://colab.research.google.com/github/xenidegracia/DataVizClassNotes/blob/main/Themes.ipynb\" target=\"_parent\"><img src=\"https://colab.research.google.com/assets/colab-badge.svg\" alt=\"Open In Colab\"/></a>"
      ]
    },
    {
      "cell_type": "markdown",
      "source": [
        "#INFO 526\n",
        "Fall 2024 - Exploring Themes in ggplot"
      ],
      "metadata": {
        "id": "kB8ixjjiWYtZ"
      }
    },
    {
      "cell_type": "markdown",
      "source": [
        "#Setup"
      ],
      "metadata": {
        "id": "fHPjCB05bY14"
      }
    },
    {
      "cell_type": "code",
      "source": [
        "install.packages(\"ggplot2\")\n",
        "library(ggplot2)"
      ],
      "metadata": {
        "id": "YNl_IdQfbXo6",
        "outputId": "3c0b8a2e-7748-40d9-8229-1a0ec5e14898",
        "colab": {
          "base_uri": "https://localhost:8080/"
        }
      },
      "execution_count": 1,
      "outputs": [
        {
          "output_type": "stream",
          "name": "stderr",
          "text": [
            "Installing package into ‘/usr/local/lib/R/site-library’\n",
            "(as ‘lib’ is unspecified)\n",
            "\n"
          ]
        }
      ]
    },
    {
      "cell_type": "markdown",
      "source": [
        "#Exploring Themes in mtcars data"
      ],
      "metadata": {
        "id": "EqdDa-1mNMj_"
      }
    },
    {
      "cell_type": "code",
      "source": [
        "head(mtcars)"
      ],
      "metadata": {
        "id": "ipiKLDI4NMO-"
      },
      "execution_count": null,
      "outputs": []
    },
    {
      "cell_type": "code",
      "source": [
        "mtcars2 <- within(mtcars, {\n",
        "  vs <- factor(vs, labels = c(\"V-shaped\", \"Straight\"))\n",
        "  am <- factor(am, labels = c(\"Automatic\", \"Manual\"))\n",
        "  cyl  <- factor(cyl)\n",
        "  gear <- factor(gear)\n",
        "})\n",
        "head(mtcars2)"
      ],
      "metadata": {
        "id": "g1pRYqSeLyjA"
      },
      "execution_count": null,
      "outputs": []
    },
    {
      "cell_type": "code",
      "source": [
        "p1 <- ggplot(mtcars2) +\n",
        "  geom_point(aes(x = wt, y = mpg, colour = gear)) +\n",
        "  labs(\n",
        "    title = \"Fuel economy declines as weight increases\",\n",
        "    subtitle = \"(1973-74)\",\n",
        "    caption = \"Data from the 1974 Motor Trend US magazine.\",\n",
        "    tag = \"Figure 1\",\n",
        "    x = \"Weight (1000 lbs)\",\n",
        "    y = \"Fuel economy (mpg)\",\n",
        "    colour = \"Gears\"\n",
        "  )\n",
        "\n",
        "p1 + theme_gray() #default"
      ],
      "metadata": {
        "id": "TIyarOKDNZHP"
      },
      "execution_count": null,
      "outputs": []
    },
    {
      "cell_type": "code",
      "source": [
        "p1 + theme_bw()"
      ],
      "metadata": {
        "id": "o8M57-bOVaEB"
      },
      "execution_count": null,
      "outputs": []
    },
    {
      "cell_type": "code",
      "source": [
        "p1 + theme_linedraw()"
      ],
      "metadata": {
        "id": "PD4PRGoxVdeR"
      },
      "execution_count": null,
      "outputs": []
    },
    {
      "cell_type": "code",
      "source": [
        "p1 + theme_light()"
      ],
      "metadata": {
        "id": "AuY3dke8VmL1"
      },
      "execution_count": null,
      "outputs": []
    },
    {
      "cell_type": "code",
      "source": [
        "p1 + theme_dark()"
      ],
      "metadata": {
        "id": "gszpospyVrit"
      },
      "execution_count": null,
      "outputs": []
    },
    {
      "cell_type": "code",
      "source": [
        "p1 + theme_minimal()"
      ],
      "metadata": {
        "id": "If9lCf9yVvb5"
      },
      "execution_count": null,
      "outputs": []
    },
    {
      "cell_type": "code",
      "source": [
        "p1 + theme_classic()"
      ],
      "metadata": {
        "id": "8UYdS7lxV2jE"
      },
      "execution_count": null,
      "outputs": []
    },
    {
      "cell_type": "code",
      "source": [
        "p1 + theme_void()"
      ],
      "metadata": {
        "id": "u9Y5xj3_V6FE"
      },
      "execution_count": null,
      "outputs": []
    },
    {
      "cell_type": "markdown",
      "source": [
        "#Themes with panels"
      ],
      "metadata": {
        "id": "MUUCoee1WCSi"
      }
    },
    {
      "cell_type": "code",
      "source": [
        "# Theme examples with panels\n",
        "p2 <- p1 + facet_grid(vs ~ am)\n",
        "\n",
        "p2 + theme_gray() # the default"
      ],
      "metadata": {
        "collapsed": true,
        "id": "DcZQZ6RMV-IC"
      },
      "execution_count": null,
      "outputs": []
    },
    {
      "cell_type": "code",
      "source": [
        "p2 + theme_linedraw()"
      ],
      "metadata": {
        "collapsed": true,
        "id": "91ttegZsWKYV"
      },
      "execution_count": null,
      "outputs": []
    },
    {
      "cell_type": "markdown",
      "source": [
        "#Complete ggplot themes"
      ],
      "metadata": {
        "id": "-BrO1I3deQS6"
      }
    },
    {
      "cell_type": "code",
      "source": [
        "ggplot(data = mpg,\n",
        "       mapping = aes(x = displ, y = hwy, color = drv)) +\n",
        "  geom_point(size = 3) +\n",
        "  labs(title = \"Engine displacement and highway MPG\",\n",
        "       subtitle = \"Heavier cars get worse mileage\")"
      ],
      "metadata": {
        "id": "XNaSSw5Yebe1"
      },
      "execution_count": null,
      "outputs": []
    },
    {
      "cell_type": "code",
      "source": [
        "#How would I add `theme_minimal` to this plot?\n",
        "\n",
        "ggplot(data = mpg,\n",
        "       mapping = aes(x = displ, y = hwy, color = drv)) +\n",
        "  geom_point(size = 3) +\n",
        "  labs(title = \"Engine displacement and highway MPG\",\n",
        "       subtitle = \"Heavier cars get worse mileage\")"
      ],
      "metadata": {
        "id": "W6UJszkNehzU"
      },
      "execution_count": null,
      "outputs": []
    },
    {
      "cell_type": "code",
      "source": [
        "#How do I use `theme_minimal` with a base size of 16?\n",
        "\n",
        "ggplot(data = mpg,\n",
        "       mapping = aes(x = displ, y = hwy, color = drv)) +\n",
        "  geom_point(size = 3) +\n",
        "  labs(title = \"Engine displacement and highway MPG\",\n",
        "       subtitle = \"Heavier cars get worse mileage\")"
      ],
      "metadata": {
        "id": "sZx19IsthHnN"
      },
      "execution_count": null,
      "outputs": []
    },
    {
      "cell_type": "markdown",
      "source": [
        "#YOUR TURN\n",
        "#Modifying plot elements with theme()"
      ],
      "metadata": {
        "id": "GKL9D6vyhec9"
      }
    },
    {
      "cell_type": "code",
      "source": [
        "#to see help pages\n",
        "?theme"
      ],
      "metadata": {
        "id": "it6uEyeohiX_"
      },
      "execution_count": null,
      "outputs": []
    },
    {
      "cell_type": "markdown",
      "source": [
        "Look at the documentation for [theme()](https://ggplot2.tidyverse.org/reference/theme.html) online."
      ],
      "metadata": {
        "id": "zVgDg8gLkjii"
      }
    },
    {
      "cell_type": "markdown",
      "source": [
        "Adjust this plot to make this plot's legend on the bottom"
      ],
      "metadata": {
        "id": "9Ziyyo6AHg8Z"
      }
    },
    {
      "cell_type": "code",
      "source": [
        "ggplot(data = mpg,\n",
        "       mapping = aes(x = displ, y = hwy, color = drv)) +\n",
        "  geom_point(size = 3) +\n",
        "  labs(title = \"Engine displacement and highway MPG\",\n",
        "       subtitle = \"Heavier cars get worse mileage\") +\n",
        "  theme_minimal()"
      ],
      "metadata": {
        "id": "cLQYIJqNht8Q"
      },
      "execution_count": null,
      "outputs": []
    },
    {
      "cell_type": "markdown",
      "source": [
        "Look at the documentation for [theme() online](https://ggplot2.tidyverse.org/reference/theme.html). Make the following changes to this plot:\n",
        "\n",
        "    Disable the major panel grid for the x-axis\n",
        "    Disable the minor panel grid for the x-axis\n",
        "    Disable the minor panel grid for the y-axis.\n",
        "\n",
        "You should only have three horizontal lines for the grid.\n"
      ],
      "metadata": {
        "id": "1GormI2Li5gn"
      }
    },
    {
      "cell_type": "code",
      "source": [
        "ggplot(data = mpg,\n",
        "       mapping = aes(x = displ, y = hwy, color = drv)) +\n",
        "  geom_point(size = 3) +\n",
        "  labs(title = \"Engine displacement and highway MPG\",\n",
        "       subtitle = \"Heavier cars get worse mileage\") +\n",
        "  theme_minimal()"
      ],
      "metadata": {
        "id": "XIQPtD-akhzY"
      },
      "execution_count": null,
      "outputs": []
    },
    {
      "cell_type": "markdown",
      "source": [
        "Almost every other plot element fits into one of three categories: a rectangle, a line, or text. Changing the settings on these elements requires specific functions that correspond to these categories."
      ],
      "metadata": {
        "id": "ch3C18bmk1tB"
      }
    },
    {
      "cell_type": "markdown",
      "source": [
        "# Borders and backgrounds with `element_rect()`"
      ],
      "metadata": {
        "id": "qJJPg-pajeIC"
      }
    },
    {
      "cell_type": "markdown",
      "source": [
        "Look at the documentation for [element()](https://ggplot2.tidyverse.org/reference/element.html) and the documentation for [theme()](https://ggplot2.tidyverse.org/reference/theme.html) online. Make the following changes to this plot:\n",
        "\n",
        "    Fill the plot background with #F2D8CE\n",
        "    Fill the panel background with #608BA6, and make the border #184759 with linewidth = 5\n",
        "\n",
        "This will be a fairly ugly plot.\n"
      ],
      "metadata": {
        "id": "kd5kzPosjsxL"
      }
    },
    {
      "cell_type": "code",
      "source": [
        "ggplot(data = mpg,\n",
        "       mapping = aes(x = displ, y = hwy, color = drv)) +\n",
        "  geom_point(size = 3) +\n",
        "  labs(title = \"Engine displacement and highway MPG\",\n",
        "       subtitle = \"Heavier cars get worse mileage\") +\n",
        "  theme_minimal()"
      ],
      "metadata": {
        "id": "6P1O2SVmjnv5"
      },
      "execution_count": null,
      "outputs": []
    },
    {
      "cell_type": "markdown",
      "source": [
        "# Lines with element_line()"
      ],
      "metadata": {
        "id": "gOrbf6EBlGDC"
      }
    },
    {
      "cell_type": "markdown",
      "source": [
        "Let's make another ugly plot - Make the major panel gridlines blue and dashed with linewidth = 1"
      ],
      "metadata": {
        "id": "b6Zq5EjelZUS"
      }
    },
    {
      "cell_type": "code",
      "source": [
        "ggplot(data = mpg,\n",
        "       mapping = aes(x = displ, y = hwy, color = drv)) +\n",
        "  geom_point(size = 3) +\n",
        "  labs(title = \"Engine displacement and highway MPG\",\n",
        "       subtitle = \"Heavier cars get worse mileage\") +\n",
        "  theme_minimal()"
      ],
      "metadata": {
        "id": "7_KZPq5xlP8X"
      },
      "execution_count": null,
      "outputs": []
    },
    {
      "cell_type": "markdown",
      "source": [
        "# Text with element_text()"
      ],
      "metadata": {
        "id": "7kDjCfagli2r"
      }
    },
    {
      "cell_type": "markdown",
      "source": [
        "Let's change the plot text\n",
        "\n",
        "*   Make the y-axis text italic\n",
        "*   Make the plot title right aligned, bold, and colored with #8C7811\n",
        "*   Make the plot subtitle right aligned\n"
      ],
      "metadata": {
        "id": "eB8DRJTFlz2G"
      }
    },
    {
      "cell_type": "code",
      "source": [
        "ggplot(data = mpg,\n",
        "       mapping = aes(x = displ, y = hwy, color = drv)) +\n",
        "  geom_point(size = 3) +\n",
        "  labs(title = \"Engine displacement and highway MPG\",\n",
        "       subtitle = \"Heavier cars get worse mileage\") +\n",
        "  theme_minimal() +\n",
        "  theme(axis.text.y = element_text(face = \"italic\"),\n",
        "plot.title = element_text(hjust = 1, face = \"bold\", color = \"blue\"),\n",
        "plot.subtitle = element_text(hjust = 0.5, size = 12))"
      ],
      "metadata": {
        "id": "kPw1MwOomELD"
      },
      "execution_count": null,
      "outputs": []
    }
  ]
}