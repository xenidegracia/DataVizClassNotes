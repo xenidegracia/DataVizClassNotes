{
  "nbformat": 4,
  "nbformat_minor": 0,
  "metadata": {
    "colab": {
      "provenance": [],
      "include_colab_link": true
    },
    "kernelspec": {
      "name": "ir",
      "display_name": "R"
    },
    "language_info": {
      "name": "R"
    }
  },
  "cells": [
    {
      "cell_type": "markdown",
      "metadata": {
        "id": "view-in-github",
        "colab_type": "text"
      },
      "source": [
        "<a href=\"https://colab.research.google.com/github/xenidegracia/DataVizClassNotes/blob/main/Distributions.ipynb\" target=\"_parent\"><img src=\"https://colab.research.google.com/assets/colab-badge.svg\" alt=\"Open In Colab\"/></a>"
      ]
    },
    {
      "cell_type": "markdown",
      "source": [
        "# Setup"
      ],
      "metadata": {
        "id": "H4f2th4e7pwf"
      }
    },
    {
      "cell_type": "code",
      "execution_count": null,
      "metadata": {
        "id": "b-ML3BPWExAo"
      },
      "outputs": [],
      "source": [
        "# load packages\n",
        "if(!require(pacman))\n",
        "  install.packages(\"pacman\")\n",
        "\n",
        "pacman::p_load(countdown,\n",
        "               tidyverse,\n",
        "               glue,\n",
        "               scales,\n",
        "               ggthemes,\n",
        "               gt,\n",
        "               Lahman,\n",
        "               ggridges)\n",
        "\n",
        "# set theme for ggplot2\n",
        "ggplot2::theme_set(ggplot2::theme_minimal(base_size = 12))\n",
        "\n",
        "# set width of code output\n",
        "options(width = 65)\n"
      ]
    },
    {
      "cell_type": "code",
      "source": [
        "library(Lahman)\n",
        "names(Batting)"
      ],
      "metadata": {
        "id": "V6u98ZMo2fnE",
        "colab": {
          "base_uri": "https://localhost:8080/",
          "height": 34
        },
        "outputId": "e42eadd2-011a-4a76-bfc0-d2599474e419"
      },
      "execution_count": null,
      "outputs": [
        {
          "output_type": "display_data",
          "data": {
            "text/html": [
              "<style>\n",
              ".list-inline {list-style: none; margin:0; padding: 0}\n",
              ".list-inline>li {display: inline-block}\n",
              ".list-inline>li:not(:last-child)::after {content: \"\\00b7\"; padding: 0 .5ex}\n",
              "</style>\n",
              "<ol class=list-inline><li>'playerID'</li><li>'yearID'</li><li>'stint'</li><li>'teamID'</li><li>'lgID'</li><li>'G'</li><li>'AB'</li><li>'R'</li><li>'H'</li><li>'X2B'</li><li>'X3B'</li><li>'HR'</li><li>'RBI'</li><li>'SB'</li><li>'CS'</li><li>'BB'</li><li>'SO'</li><li>'IBB'</li><li>'HBP'</li><li>'SH'</li><li>'SF'</li><li>'GIDP'</li></ol>\n"
            ],
            "text/markdown": "1. 'playerID'\n2. 'yearID'\n3. 'stint'\n4. 'teamID'\n5. 'lgID'\n6. 'G'\n7. 'AB'\n8. 'R'\n9. 'H'\n10. 'X2B'\n11. 'X3B'\n12. 'HR'\n13. 'RBI'\n14. 'SB'\n15. 'CS'\n16. 'BB'\n17. 'SO'\n18. 'IBB'\n19. 'HBP'\n20. 'SH'\n21. 'SF'\n22. 'GIDP'\n\n\n",
            "text/latex": "\\begin{enumerate*}\n\\item 'playerID'\n\\item 'yearID'\n\\item 'stint'\n\\item 'teamID'\n\\item 'lgID'\n\\item 'G'\n\\item 'AB'\n\\item 'R'\n\\item 'H'\n\\item 'X2B'\n\\item 'X3B'\n\\item 'HR'\n\\item 'RBI'\n\\item 'SB'\n\\item 'CS'\n\\item 'BB'\n\\item 'SO'\n\\item 'IBB'\n\\item 'HBP'\n\\item 'SH'\n\\item 'SF'\n\\item 'GIDP'\n\\end{enumerate*}\n",
            "text/plain": [
              " [1] \"playerID\" \"yearID\"   \"stint\"    \"teamID\"   \"lgID\"    \n",
              " [6] \"G\"        \"AB\"       \"R\"        \"H\"        \"X2B\"     \n",
              "[11] \"X3B\"      \"HR\"       \"RBI\"      \"SB\"       \"CS\"      \n",
              "[16] \"BB\"       \"SO\"       \"IBB\"      \"HBP\"      \"SH\"      \n",
              "[21] \"SF\"       \"GIDP\"    "
            ]
          },
          "metadata": {}
        }
      ]
    },
    {
      "cell_type": "markdown",
      "source": [
        "# Context 1\n",
        "There are many players in the dataset that played very little games per year, so we will limit to players that played at least 100 games in a given year, with the following years excepted:\n",
        "\n",
        "*   In 1994 only about 115 games were played due to labor strikes, so will filter to at least 70 games.\n",
        "*   In 2020 COVID shortened the season to only 60 games, so we will filter at least 40 games.\n",
        "\n"
      ],
      "metadata": {
        "id": "hHsRhYyZ3MAf"
      }
    },
    {
      "cell_type": "code",
      "source": [
        "home_runs <- Batting |>\n",
        "  filter(\n",
        "    G >= 100 |\n",
        "    (G >= 40 & yearID == 2020) |\n",
        "    (G >= 70 & yearID == 1994)\n",
        "  )"
      ],
      "metadata": {
        "id": "gFi9sPex3f4c"
      },
      "execution_count": null,
      "outputs": []
    },
    {
      "cell_type": "markdown",
      "source": [
        "# Context 2\n",
        "We are only concerned with years after 1920 (known as the “live-ball era”).\n",
        "Very few home runs were hit before 1920 as the same baseball was used for the entire game. About 100 baseballs are used every game today!"
      ],
      "metadata": {
        "id": "UPY0eUhj3ro2"
      }
    },
    {
      "cell_type": "code",
      "source": [
        "home_runs <- Batting |>\n",
        "  filter(\n",
        "    G >= 100 |\n",
        "    (G >= 40 & yearID == 2020) |\n",
        "    (G >= 70 & yearID == 1994),\n",
        "    yearID > 1920\n",
        "  )"
      ],
      "metadata": {
        "id": "8QMm36KW3veM"
      },
      "execution_count": null,
      "outputs": []
    },
    {
      "cell_type": "markdown",
      "source": [
        "# Context 3\n",
        "We are only considering the `AL` and `NL` leagues as they have the best stat-tracking and are the only Major leagues still around today."
      ],
      "metadata": {
        "id": "ZkwnaW_Z35sR"
      }
    },
    {
      "cell_type": "code",
      "source": [
        "home_runs <- Batting |>\n",
        "  filter(\n",
        "    G >= 100 |\n",
        "    (G >= 40 & yearID == 2020) |\n",
        "    (G >= 70 & yearID == 1994),\n",
        "    yearID > 1920,\n",
        "    lgID %in% c(\"AL\", \"NL\")\n",
        "  )"
      ],
      "metadata": {
        "id": "r9Lq0QHS3-XX"
      },
      "execution_count": null,
      "outputs": []
    },
    {
      "cell_type": "markdown",
      "source": [
        "# Density Graph Example"
      ],
      "metadata": {
        "id": "xSbn_8ck4Hnb"
      }
    },
    {
      "cell_type": "code",
      "source": [
        "ggplot(home_runs, aes(HR)) +\n",
        "  geom_density() +\n",
        "  xlab(\"Home runs per player per year\")"
      ],
      "metadata": {
        "id": "QB1BL5hz4Lwy"
      },
      "execution_count": null,
      "outputs": []
    },
    {
      "cell_type": "markdown",
      "source": [
        "*   Most players hit just a few home runs per year and the distribution is very right-skewed.\n",
        "*   Very few players hit more than 40 per year."
      ],
      "metadata": {
        "id": "40mtzRFl4OuF"
      }
    },
    {
      "cell_type": "markdown",
      "source": [
        "# Stacked Density Graph By Decade"
      ],
      "metadata": {
        "id": "cZU3M-Bb4a02"
      }
    },
    {
      "cell_type": "code",
      "source": [
        "home_runs |>\n",
        "  mutate(\n",
        "    decade = cut(\n",
        "      yearID,\n",
        "      breaks = seq(1920, 2030, 10),\n",
        "      labels = paste0(seq(1920, 2020, 10), \"'s\")\n",
        "    )\n",
        "  ) |>\n",
        "  ggplot(aes(HR, fill = decade)) +\n",
        "  geom_density(position = \"stack\") +\n",
        "  labs(x = \"Home runs per player per year\")"
      ],
      "metadata": {
        "id": "dqQzagWd4cHE"
      },
      "execution_count": null,
      "outputs": []
    },
    {
      "cell_type": "markdown",
      "source": [
        "If we stratify by decade, we can see the mode of the density graphs slowly creep forward, but it is difficult to see the tail of the distribution."
      ],
      "metadata": {
        "id": "rQJBVX-y4grv"
      }
    },
    {
      "cell_type": "markdown",
      "source": [
        "# Overlapping Density Graphs By Decade"
      ],
      "metadata": {
        "id": "Y-g3igdK4lcm"
      }
    },
    {
      "cell_type": "code",
      "source": [
        "home_runs |>\n",
        "  mutate(\n",
        "    decade = cut(\n",
        "      yearID,\n",
        "      breaks = seq(1920, 2030, 10),\n",
        "      labels = paste0(seq(1920, 2020, 10), \"'s\")\n",
        "    )\n",
        "  ) |>\n",
        "  ggplot(aes(HR, color = decade)) +\n",
        "  geom_density() +\n",
        "  labs(x = \"Home runs per player per year\")"
      ],
      "metadata": {
        "id": "AvlUL6Kw4qNV"
      },
      "execution_count": null,
      "outputs": []
    },
    {
      "cell_type": "markdown",
      "source": [
        "The modes moving forward is a little more apparent now, but the graphs are too coupled to digest easily."
      ],
      "metadata": {
        "id": "lXegW6bH4uQl"
      }
    },
    {
      "cell_type": "markdown",
      "source": [
        "# Density Graph with Conditional Probabilities"
      ],
      "metadata": {
        "id": "qnPTP9Uf43TY"
      }
    },
    {
      "cell_type": "code",
      "source": [
        "home_runs |>\n",
        "  mutate(\n",
        "    decade = cut(\n",
        "      yearID,\n",
        "      breaks = seq(1920, 2030, 10),\n",
        "      labels = paste0(seq(1920, 2020, 10), \"'s\")\n",
        "    )\n",
        "  ) |>\n",
        "  ggplot(aes(x = HR, y = after_stat(count), fill = decade)) +\n",
        "  geom_density(position = \"fill\") +\n",
        "  geom_vline(xintercept = 60, linetype = \"dashed\") +\n",
        "  labs(x = \"Home runs per player per year\")"
      ],
      "metadata": {
        "id": "pwpIxeOJ44qa"
      },
      "execution_count": null,
      "outputs": []
    },
    {
      "cell_type": "markdown",
      "source": [
        "By using position = \"fill\" and y = after_stat(count) we graph the conditional probability of a decade given that a player has hit a certain number of home runs. We see that players would hit about 60 homeruns in the 20’s and 30’s, but that disappears until the 90’s and 2000’s.\n",
        "\n",
        "*With the exception of 1961, the year Roger Maris hit 61 home runs"
      ],
      "metadata": {
        "id": "CZVJw75648yb"
      }
    },
    {
      "cell_type": "markdown",
      "source": [
        "# Violin Plot"
      ],
      "metadata": {
        "id": "R3EoqE185seI"
      }
    },
    {
      "cell_type": "code",
      "source": [
        "home_runs |>\n",
        "  filter(yearID %in% 1985:2005) |>\n",
        "  ggplot(aes(HR, x = factor(yearID))) +\n",
        "  geom_violin(draw_quantiles = c(0.25, 0.5, 0.75)) +\n",
        "  geom_jitter(\n",
        "    data = ~ filter(.x, HR >= 30),\n",
        "    height = 0, width = 0.1, alpha = 0.5\n",
        "  ) +\n",
        "  scale_x_discrete(guide = guide_axis(n.dodge = 2)) +\n",
        "  labs(x = \"Home runs per player per year\")"
      ],
      "metadata": {
        "id": "hWrlnfhC5vFh"
      },
      "execution_count": null,
      "outputs": []
    },
    {
      "cell_type": "markdown",
      "source": [
        "Let’s examine the years near the change point, 1985 to 2005. All points shown are players that hit 30 or more home runs in a given year. It looks like around 1995 players started hitting a lot more home runs."
      ],
      "metadata": {
        "id": "xN_n3y1U5xXb"
      }
    },
    {
      "cell_type": "markdown",
      "source": [
        "# Ridge Plot"
      ],
      "metadata": {
        "id": "QFu-r5VN54lL"
      }
    },
    {
      "cell_type": "code",
      "source": [
        "library(ggridges)\n",
        "\n",
        "home_runs |>\n",
        "  filter(yearID %in% 1985:2010) |>\n",
        "  ggplot(aes(x = HR, y = factor(yearID))) +\n",
        "  stat_density_ridges(\n",
        "    mapping = aes(fill = factor(after_stat(quantile))),\n",
        "    geom = \"density_ridges_gradient\",\n",
        "    calc_ecdf = TRUE,\n",
        "    quantiles = c(.25, .50, .75, .95),\n",
        "    quantile_lines = TRUE,\n",
        "    scale = 2,\n",
        "    rel_min_height = 0.01\n",
        "  ) +\n",
        "  scale_fill_viridis_d(\n",
        "    name = \"Quantiles\",\n",
        "    labels = c(\"0\", \"25th\", \"50th\", \"75th\", \"95th\")\n",
        "  ) +\n",
        "  geom_jitter(\n",
        "    data = ~ filter(.x, HR >= 30),\n",
        "    height = 0.2, width = 0, alpha = 0.3,\n",
        "  ) +\n",
        "  scale_x_continuous(\n",
        "    name = \"Home runs per player per year\",\n",
        "    limits = c(0, 73)\n",
        "  ) +\n",
        "  labs(y = \"Year\")"
      ],
      "metadata": {
        "id": "cycroVgM58NY"
      },
      "execution_count": null,
      "outputs": []
    },
    {
      "cell_type": "markdown",
      "source": [
        "The quantiles also have a consistent increase, along with many more players hitting 30 or more home runs! In 1998 there was a home run record race between two players; this brought a lot of interest back into baseball. 1995 to about 2005 is known as the Steroid Era in baseball. During this time, players would take performance enhancing drugs freely as the league did not enforce the ban on them. League-wide testing began in 2003."
      ],
      "metadata": {
        "id": "TM0p2KAr5-iO"
      }
    },
    {
      "cell_type": "markdown",
      "source": [
        "**RETURN** TO SLIDES"
      ],
      "metadata": {
        "id": "SqLwKOVSCWoT"
      }
    },
    {
      "cell_type": "markdown",
      "source": [
        "# Cautions"
      ],
      "metadata": {
        "id": "w8JfLIXWAeq3"
      }
    },
    {
      "cell_type": "code",
      "source": [
        "#Density Below 0\n",
        "\n",
        "long_tailed_data <- tibble(random_values = rlnorm(1000, -3, 1))\n",
        "\n",
        "plot(\n",
        "  density(long_tailed_data$random_values, bw = \"SJ\"),\n",
        "  main = \"Density graph of positive numbers with density below 0\"\n",
        ")\n",
        "abline(v = 0, col = \"red\", lty = 2)"
      ],
      "metadata": {
        "id": "GYPdjKqSAheZ"
      },
      "execution_count": null,
      "outputs": []
    },
    {
      "cell_type": "code",
      "source": [
        "plot(\n",
        "  density(long_tailed_data$random_values, bw = \"SJ\", from = 0),\n",
        "  main = \"Density graph of positive numbers with cut density\"\n",
        ")\n",
        "abline(v = 0, col = \"red\", lty = 2)"
      ],
      "metadata": {
        "id": "0RJURUkIAqE8"
      },
      "execution_count": null,
      "outputs": []
    },
    {
      "cell_type": "markdown",
      "source": [
        "ggplot2 generally handles this for you by putting bounds at the range of your data, but it can occasionally skip this depending on how complicated your graph becomes."
      ],
      "metadata": {
        "id": "I75nFn35Aslw"
      }
    },
    {
      "cell_type": "code",
      "source": [
        "#Long tailed data\n",
        "\n",
        "longer_tailed_data <- tibble(random_values = rlnorm(1000, -6, 5))\n",
        "\n",
        "ggplot(longer_tailed_data, aes(x = random_values)) +\n",
        "  geom_density()"
      ],
      "metadata": {
        "id": "RjwnG_b-A-cS"
      },
      "execution_count": null,
      "outputs": []
    },
    {
      "cell_type": "code",
      "source": [
        "ggplot(longer_tailed_data, aes(x = random_values)) +\n",
        "  geom_density() +\n",
        "  scale_x_continuous(trans = \"log\")"
      ],
      "metadata": {
        "id": "2JIFu4O2BEYD"
      },
      "execution_count": null,
      "outputs": []
    },
    {
      "cell_type": "markdown",
      "source": [
        "This occurs in our regular work often."
      ],
      "metadata": {
        "id": "yxn7MK5sBGpj"
      }
    },
    {
      "cell_type": "markdown",
      "source": [
        "#2D Density/Histograms\n",
        "Players that hit lots of homeruns tend to strike out and walk more."
      ],
      "metadata": {
        "id": "Bkhr8npMBNZ8"
      }
    },
    {
      "cell_type": "code",
      "source": [
        "#Scatterplot\n",
        "home_runs |>\n",
        "  ggplot(aes(x = HR, y = SO + BB)) +\n",
        "  geom_jitter(width = 0.3, height = 0.3, alpha = 0.1) +\n",
        "  geom_density_2d(alpha = 0.5) +\n",
        "  labs(\n",
        "    x = \"Home runs per player per year\",\n",
        "    y = \"Strike outs and walks per player per year\"\n",
        "  )"
      ],
      "metadata": {
        "id": "TW3lQUsuBWv9"
      },
      "execution_count": null,
      "outputs": []
    },
    {
      "cell_type": "code",
      "source": [
        "#2D Bins\n",
        "home_runs |>\n",
        "  ggplot(aes(x = HR, y = SO + BB)) +\n",
        "  geom_bin_2d(binwidth = c(2, 10)) +\n",
        "  geom_density_2d(alpha = 0.5) +\n",
        "  labs(\n",
        "    x = \"Home runs per player per year\",\n",
        "    y = \"Strike outs and walks per player per year\"\n",
        "  ) +\n",
        "  scale_fill_viridis_c()"
      ],
      "metadata": {
        "id": "-mmkc7ZgBbIz"
      },
      "execution_count": null,
      "outputs": []
    },
    {
      "cell_type": "code",
      "source": [
        "#2D Density\n",
        "home_runs |>\n",
        "  ggplot(aes(x = HR, y = SO + BB)) +\n",
        "  geom_density_2d_filled(show.legend = FALSE) +\n",
        "  geom_density_2d() +\n",
        "  labs(\n",
        "    x = \"Home runs per player per year\",\n",
        "    y = \"Strike outs and walks per player per year\"\n",
        "  )"
      ],
      "metadata": {
        "id": "yXs7fh3gBftC"
      },
      "execution_count": null,
      "outputs": []
    }
  ]
}